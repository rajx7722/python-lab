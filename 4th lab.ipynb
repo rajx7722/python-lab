{
 "cells": [
  {
   "cell_type": "markdown",
   "metadata": {},
   "source": [
    "Say you have a list value like this: spam = ['apples', 'bananas', 'tofu', 'cats']\n",
    "Write a function that takes a list value as an argument and returns a string with all the items separated by a comma and a space, with and inserted before the last item. For example, passing the previous spam list to the function would return 'apples, bananas, tofu, and cats'. But your function should be able to work with any list value passed to it\n"
   ]
  },
  {
   "cell_type": "code",
   "execution_count": 3,
   "metadata": {},
   "outputs": [
    {
     "name": "stdout",
     "output_type": "stream",
     "text": [
      "hello, bye, and hi\n"
     ]
    }
   ],
   "source": [
    "def list_to_string(lst):\n",
    "    if len(lst) == 0:\n",
    "        return \"\"\n",
    "    if len(lst) == 1:\n",
    "        return lst[0]\n",
    "    allminuslast = ', '.join(lst[:-1])\n",
    "    last_item = lst[-1]\n",
    "    return allminuslast + ', and ' + last_item\n",
    "\n",
    "user_input = input(\"Enter items separated by commas: \")\n",
    "items_list = user_input.split(',')\n",
    "\n",
    "for i in range(len(items_list)):\n",
    "    items_list[i] = items_list[i].strip()\n",
    "\n",
    "result = list_to_string(items_list)\n",
    "print(result)"
   ]
  },
  {
   "cell_type": "markdown",
   "metadata": {},
   "source": [
    "\n",
    "ARS Gems Store sells different varieties of gems to its customers. Write a Python program to calculate the bill amount to be paid by a customer based on the list of gems and quantity purchased. Any purchase with a total bill amount above Rs.30000 is entitled for 5% discount. If any gem required by the customer is not available in the store, then consider total bill amount to be -1. Assume that quantity required by the customer for any gem will always be greater than 0. Perform case-sensitive comparison wherever applicable.\n",
    "\n"
   ]
  },
  {
   "cell_type": "code",
   "execution_count": 18,
   "metadata": {},
   "outputs": [
    {
     "name": "stdout",
     "output_type": "stream",
     "text": [
      "purchased till now:  {'ruby': 2}\n",
      "purchased till now:  {'ruby': 2, 'sapphire': 35}\n",
      "total amount due is:  209000.0\n"
     ]
    }
   ],
   "source": [
    "\n",
    "gem_prices={\n",
    "        'ruby': 5000,\n",
    "        'sapphire': 6000,\n",
    "        'emerald': 700,\n",
    "        'diamond': 10000,\n",
    "        'topaz': 400,\n",
    "    }\n",
    "purchase=[]\n",
    "quanitities=[]\n",
    "total=0\n",
    "while True:\n",
    "    gem=input(\"enter the gems you want to buy ,type 'done' when you are done\")\n",
    "    gem=gem.lower()\n",
    "    if gem == \"done\":\n",
    "        print(\"total amount due is: \",total)\n",
    "        break\n",
    "    elif gem in gem_prices:\n",
    "        quanitity=int(input(\"its quantity\"))\n",
    "        purchase.append(gem)\n",
    "        quanitities.append(quanitity)\n",
    "        dict_purchased=dict(zip(purchase,quanitities))\n",
    "        print(\"purchased till now: \",dict_purchased)\n",
    "        total+= quanitity*gem_prices[gem]\n",
    "        if total>30000:\n",
    "            total=total*0.95\n",
    "        \n",
    "    else:\n",
    "        print(\"gem not found in the store , maybe check for spelling errors eh?\")\n",
    "    \n",
    "    \n",
    "\n",
    "\n",
    "    "
   ]
  },
  {
   "cell_type": "markdown",
   "metadata": {},
   "source": [
    "\n",
    "Write a python program to generate the ticket numbers for specified number of passengers travelling in a flight as per the details mentioned below:\n",
    "The ticket number should be generated as airline:src:dest:number\n",
    "where\n",
    "1.\tConsider AI as the value for airline\n",
    "2.\tsrc and dest should be the first three characters of the source and destination cities.\n",
    "3.\tnumber should be auto-generated starting from 101\n",
    "4.\tThe program should return the list of ticket numbers of last five passengers.\n",
    "Note: If passenger count is less than 5, return the list of all generated ticket numbers.\n",
    "\n"
   ]
  },
  {
   "cell_type": "code",
   "execution_count": 24,
   "metadata": {},
   "outputs": [
    {
     "name": "stdout",
     "output_type": "stream",
     "text": [
      "enter the 2 passengers names\n",
      "{'aditya': 'AI:luc:del101', 'avishi': 'AI:luc:del102'}\n"
     ]
    }
   ],
   "source": [
    "no=int(input(\"number of passengers: \"))\n",
    "dest=input(\"enter destination\")\n",
    "src=input(\"enter the pickup airport\")\n",
    "dest_print=str(dest[:3])\n",
    "src_print=str(src[:3])\n",
    "print(f\"enter the {no} passengers names\")\n",
    "names_list=[]\n",
    "n=101\n",
    "for i in range(no):\n",
    "    name=input(f\"name of passenger {i}: (type 'done' if you're done!)\" )\n",
    "    if name=='done':\n",
    "        break\n",
    "    names_list.append(name)\n",
    "\n",
    "actual_ticket_numbers=[]\n",
    "for x in range(no):\n",
    "    ticket_number=\"AI\"+\":\"+src_print+\":\"+dest_print+str(n)\n",
    "    actual_ticket_numbers.append(ticket_number)\n",
    "    n=n+1\n",
    "\n",
    "final_print= dict(zip(names_list,actual_ticket_numbers))\n",
    "print(final_print)"
   ]
  },
  {
   "cell_type": "markdown",
   "metadata": {},
   "source": [
    "\n",
    "Write a python program which finds the maximum number from num1 to num2 (num2 inclusive) based on the following rules.\n",
    "1.\tAlways num1 should be less than num2\n",
    "2.\tConsider each number from num1 to num2 (num2 inclusive). Populate the number into a list, if the below conditions are satisfied\n",
    "a.\tSum of the digits of the number is a multiple of 3\n",
    "b.\tNumber has only two digits\n",
    "c.\tNumber is a multiple of 5\n",
    "3.\tDisplay the maximum element from the list\n",
    "5.\tIn case of any invalid data or if the list is empty, display -1.\n"
   ]
  },
  {
   "cell_type": "code",
   "execution_count": 41,
   "metadata": {},
   "outputs": [
    {
     "name": "stdout",
     "output_type": "stream",
     "text": [
      "[15, 30, 45, 60, 75, 90]\n",
      "90\n"
     ]
    }
   ],
   "source": [
    "maxv= int(input(\"enter the number : max\"))\n",
    "minv= int(input(\"enter the number:  now minimum one\"))\n",
    "n=0\n",
    "li=[]\n",
    "def findMAX(minv,maxv):\n",
    "    for n in range(minv, maxv+1):\n",
    "        if minv<n<maxv and 100>n>9 and n%5==0 and n%3==0:\n",
    "            li.append(n)\n",
    "    return li\n",
    "y = findMAX(minv, maxv)\n",
    "print(y)\n",
    "if y:\n",
    "    z=y[0]\n",
    "    for a in y:\n",
    "        if a>z:\n",
    "            z=a\n",
    "print(z)"
   ]
  },
  {
   "cell_type": "code",
   "execution_count": 4,
   "metadata": {},
   "outputs": [
    {
     "name": "stdout",
     "output_type": "stream",
     "text": [
      "..OO.OO..\n",
      ".OOOOOOO.\n",
      ".OOOOOOO.\n",
      "..OOOOO..\n",
      "...OOO...\n",
      "....O....\n"
     ]
    }
   ],
   "source": [
    "grid = [\n",
    "    [\".\", \".\", \".\", \".\", \".\", \".\"],\n",
    "    [\".\", \"O\", \"O\", \".\", \".\", \".\"],\n",
    "    [\"O\", \"O\", \"O\", \"O\", \".\", \".\"],\n",
    "    [\"O\", \"O\", \"O\", \"O\", \"O\", \".\"],\n",
    "    [\".\", \"O\", \"O\", \"O\", \"O\", \"O\"],\n",
    "    [\"O\", \"O\", \"O\", \"O\", \"O\", \".\"],\n",
    "    [\"O\", \"O\", \"O\", \"O\", \".\", \".\"],\n",
    "    [\".\", \"O\", \"O\", \".\", \".\", \".\"],\n",
    "    [\".\", \".\", \".\", \".\", \".\", \".\"],\n",
    "]\n",
    "\n",
    "for y in range(len(grid[0])):\n",
    "    for x in range(len(grid)):\n",
    "        print(grid[x][y], end=\"\")\n",
    "    print()"
   ]
  },
  {
   "cell_type": "code",
   "execution_count": null,
   "metadata": {},
   "outputs": [],
   "source": []
  }
 ],
 "metadata": {
  "kernelspec": {
   "display_name": "Python 3",
   "language": "python",
   "name": "python3"
  },
  "language_info": {
   "codemirror_mode": {
    "name": "ipython",
    "version": 3
   },
   "file_extension": ".py",
   "mimetype": "text/x-python",
   "name": "python",
   "nbconvert_exporter": "python",
   "pygments_lexer": "ipython3",
   "version": "3.11.3"
  }
 },
 "nbformat": 4,
 "nbformat_minor": 2
}
