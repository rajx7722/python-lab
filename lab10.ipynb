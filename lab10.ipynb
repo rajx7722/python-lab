{
 "cells": [
  {
   "cell_type": "markdown",
   "metadata": {},
   "source": [
    "\n",
    "# q2:"
   ]
  },
  {
   "cell_type": "code",
   "execution_count": 13,
   "metadata": {},
   "outputs": [
    {
     "name": "stdout",
     "output_type": "stream",
     "text": [
      "Employee table created successfully.\n"
     ]
    }
   ],
   "source": [
    "import sqlite3\n",
    "\n",
    "conn = sqlite3.connect('test.db')\n",
    "cursor = conn.cursor()\n",
    "\n",
    "create_table_query = '''\n",
    "CREATE TABLE IF NOT EXISTS Employee (\n",
    "    First_Name CHAR(20) NOT NULL,\n",
    "    Last_Name CHAR(20),\n",
    "    Age INT,\n",
    "    Gender CHAR(1),\n",
    "    Department CHAR(20),\n",
    "    Income FLOAT\n",
    ");\n",
    "'''\n",
    "\n",
    "cursor.execute(create_table_query)\n",
    "conn.commit()\n",
    "conn.close()\n",
    "\n",
    "print(\"Employee table created successfully.\")"
   ]
  },
  {
   "cell_type": "markdown",
   "metadata": {},
   "source": [
    "# Q3"
   ]
  },
  {
   "cell_type": "code",
   "execution_count": 14,
   "metadata": {},
   "outputs": [
    {
     "name": "stdout",
     "output_type": "stream",
     "text": [
      "Records inserted successfully.\n"
     ]
    }
   ],
   "source": [
    "import sqlite3\n",
    "\n",
    "conn = sqlite3.connect('test.db')\n",
    "cursor = conn.cursor()\n",
    "\n",
    "insert_query = '''\n",
    "INSERT INTO Employee (First_Name, Last_Name, Age, Gender, Department, Income)\n",
    "VALUES (?, ?, ?, ?, ?, ?);\n",
    "'''\n",
    "\n",
    "employees = [\n",
    "    ('Aditya', 'P.Singh', 22, 'M', 'Engineering', 60000.0),\n",
    "    ('Adarsh', 'N.Singh', 23, 'F', 'Marketing', 55000.0),\n",
    "    ('Ishan', 'Agarwal', 35, 'F', 'HR', 70000.0),\n",
    "    ('Abhijit', 'shukla', 40, 'M', 'Finance', 80000.0),\n",
    "    ('abhishek', 'Lee', 28, 'M', 'IT', 50000.0)\n",
    "]\n",
    "\n",
    "cursor.executemany(insert_query, employees)\n",
    "conn.commit()\n",
    "conn.close()\n",
    "\n",
    "print(\"Records inserted successfully.\")\n"
   ]
  },
  {
   "cell_type": "code",
   "execution_count": 15,
   "metadata": {},
   "outputs": [
    {
     "name": "stdout",
     "output_type": "stream",
     "text": [
      "('John', 'Doe', 30, 'M', 'Engineering', 60000.0)\n",
      "('Jane', 'Smith', 25, 'F', 'Marketing', 55000.0)\n",
      "('Emily', 'Davis', 35, 'F', 'HR', 70000.0)\n",
      "('Michael', 'Johnson', 40, 'M', 'Finance', 80000.0)\n",
      "('Chris', 'Lee', 28, 'M', 'IT', 50000.0)\n",
      "('Aditya', 'P.Singh', 22, 'M', 'Engineering', 60000.0)\n",
      "('Adarsh', 'N.Singh', 23, 'F', 'Marketing', 55000.0)\n",
      "('Ishan', 'Agarwal', 35, 'F', 'HR', 70000.0)\n",
      "('Abhijit', 'shukla', 40, 'M', 'Finance', 80000.0)\n",
      "('abhishek', 'Lee', 28, 'M', 'IT', 50000.0)\n",
      "('Aditya', 'P.Singh', 22, 'M', 'Engineering', 60000.0)\n",
      "('Adarsh', 'N.Singh', 23, 'F', 'Marketing', 55000.0)\n",
      "('Ishan', 'Agarwal', 35, 'F', 'HR', 70000.0)\n",
      "('Abhijit', 'shukla', 40, 'M', 'Finance', 80000.0)\n",
      "('abhishek', 'Lee', 28, 'M', 'IT', 50000.0)\n"
     ]
    }
   ],
   "source": [
    "import sqlite3\n",
    "\n",
    "conn = sqlite3.connect('test.db')\n",
    "cursor = conn.cursor()\n",
    "select_query = \"SELECT * FROM Employee;\"\n",
    "\n",
    "cursor.execute(select_query)\n",
    "rows = cursor.fetchall()\n",
    "\n",
    "for row in rows:\n",
    "    print(row)\n",
    "\n",
    "conn.close()\n"
   ]
  },
  {
   "cell_type": "code",
   "execution_count": null,
   "metadata": {},
   "outputs": [],
   "source": []
  }
 ],
 "metadata": {
  "kernelspec": {
   "display_name": "Python 3",
   "language": "python",
   "name": "python3"
  },
  "language_info": {
   "codemirror_mode": {
    "name": "ipython",
    "version": 3
   },
   "file_extension": ".py",
   "mimetype": "text/x-python",
   "name": "python",
   "nbconvert_exporter": "python",
   "pygments_lexer": "ipython3",
   "version": "3.11.3"
  }
 },
 "nbformat": 4,
 "nbformat_minor": 2
}
