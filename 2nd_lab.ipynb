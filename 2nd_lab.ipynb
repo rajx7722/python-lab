{
 "cells": [
  {
   "cell_type": "code",
   "execution_count": 31,
   "metadata": {},
   "outputs": [
    {
     "name": "stdout",
     "output_type": "stream",
     "text": [
      "28\n"
     ]
    }
   ],
   "source": [
    "import calendar\n",
    "\n",
    "month=int(input(\"month\"))\n",
    "year=int(input(\"year\"))\n",
    "\n",
    "num_days=calendar.monthrange(year , month)[1]\n",
    "print(num_days) "
   ]
  },
  {
   "cell_type": "code",
   "execution_count": 6,
   "metadata": {},
   "outputs": [
    {
     "ename": "ValueError",
     "evalue": "invalid literal for int() with base 10: 'august'",
     "output_type": "error",
     "traceback": [
      "\u001b[1;31m---------------------------------------------------------------------------\u001b[0m",
      "\u001b[1;31mValueError\u001b[0m                                Traceback (most recent call last)",
      "Cell \u001b[1;32mIn[6], line 12\u001b[0m\n\u001b[0;32m      9\u001b[0m     \u001b[38;5;28;01melse\u001b[39;00m:\n\u001b[0;32m     10\u001b[0m         \u001b[38;5;28;01mreturn\u001b[39;00m \u001b[38;5;124m\"\u001b[39m\u001b[38;5;124minvalid month\u001b[39m\u001b[38;5;124m\"\u001b[39m\n\u001b[1;32m---> 12\u001b[0m mon\u001b[38;5;241m=\u001b[39m\u001b[38;5;28;43mint\u001b[39;49m\u001b[43m(\u001b[49m\u001b[38;5;28;43minput\u001b[39;49m\u001b[43m(\u001b[49m\u001b[38;5;124;43m\"\u001b[39;49m\u001b[38;5;124;43menter month: \u001b[39;49m\u001b[38;5;124;43m\"\u001b[39;49m\u001b[43m)\u001b[49m\u001b[43m)\u001b[49m\n\u001b[0;32m     14\u001b[0m \u001b[38;5;28mprint\u001b[39m(\u001b[38;5;124m\"\u001b[39m\u001b[38;5;124mnumber of days in month \u001b[39m\u001b[38;5;124m\"\u001b[39m,mon,\u001b[38;5;124m\"\u001b[39m\u001b[38;5;124mare \u001b[39m\u001b[38;5;124m\"\u001b[39m, month(mon))\n",
      "\u001b[1;31mValueError\u001b[0m: invalid literal for int() with base 10: 'august'"
     ]
    }
   ],
   "source": [
    "def month(month):\n",
    "\n",
    "    if month in[1,3,5,7,8,10,12]:\n",
    "        return 31\n",
    "    elif month in[4,6,9,11]:\n",
    "        return 30\n",
    "    elif month==2:\n",
    "        return 28\n",
    "    else:\n",
    "        return \"invalid month\"\n",
    "    \n",
    "mon=int(input(\"enter month: \"))\n",
    "\n",
    "print(\"number of days in month \",mon,\"are \", month(mon))"
   ]
  },
  {
   "cell_type": "code",
   "execution_count": 5,
   "metadata": {},
   "outputs": [
    {
     "name": "stdout",
     "output_type": "stream",
     "text": [
      "1 \n",
      "1 2 \n",
      "1 2 3 \n",
      "1 2 3 4 \n",
      "1 2 3 \n",
      "1 2 \n",
      "1 \n"
     ]
    }
   ],
   "source": [
    "def print_pattern():\n",
    "    n = 4  \n",
    "\n",
    "    for i in range(1, n + 1):\n",
    "        for j in range(1, i + 1):\n",
    "            print(j, end=\" \")\n",
    "        print()\n",
    "\n",
    "    for i in range(n - 1, 0, -1):\n",
    "        for j in range(1, i + 1):\n",
    "            print(j, end=\" \")\n",
    "        print()\n",
    "\n",
    "print_pattern()\n"
   ]
  },
  {
   "cell_type": "code",
   "execution_count": 2,
   "metadata": {},
   "outputs": [
    {
     "name": "stdout",
     "output_type": "stream",
     "text": [
      "0\n",
      "5\n",
      "15\n",
      "30\n",
      "50\n",
      "75\n",
      "105\n",
      "140\n",
      "180\n",
      "225\n",
      "275\n",
      "330\n",
      "390\n",
      "455\n",
      "525\n",
      "600\n",
      "680\n",
      "765\n",
      "855\n",
      "950\n",
      "1050\n",
      "1155\n",
      "1265\n",
      "1380\n",
      "1500\n",
      "1625\n",
      "1755\n",
      "1890\n",
      "2030\n",
      "2175\n",
      "2325\n",
      "2480\n",
      "2640\n",
      "2805\n",
      "2975\n",
      "3150\n",
      "3330\n",
      "3515\n",
      "3705\n",
      "3900\n",
      "4100\n",
      "4305\n",
      "4515\n",
      "4730\n",
      "4950\n",
      "5175\n",
      "5405\n",
      "5640\n",
      "5880\n",
      "6125\n",
      "6375\n",
      "6630\n",
      "6890\n",
      "7155\n",
      "7425\n",
      "7700\n",
      "7980\n",
      "8265\n",
      "8555\n",
      "8850\n",
      "9150\n",
      "9455\n",
      "9765\n",
      "10080\n",
      "10400\n",
      "10725\n",
      "11055\n",
      "11390\n",
      "11730\n",
      "12075\n",
      "12425\n",
      "12780\n",
      "13140\n",
      "13505\n",
      "13875\n",
      "14250\n",
      "14630\n",
      "15015\n",
      "15405\n",
      "15800\n",
      "16200\n",
      "16605\n",
      "17015\n",
      "17430\n",
      "17850\n",
      "18275\n",
      "18705\n",
      "19140\n",
      "19580\n",
      "20025\n",
      "20475\n",
      "20930\n",
      "21390\n",
      "21855\n",
      "22325\n",
      "22800\n",
      "23280\n",
      "23765\n",
      "24255\n",
      "24750\n",
      "25250\n"
     ]
    }
   ],
   "source": [
    "n=0\n",
    "sum=0\n",
    "while n<=500:\n",
    "    if n%5==0:\n",
    "        sum=sum+n\n",
    "        print(sum)\n",
    "    n=n+1\n",
    "\n"
   ]
  },
  {
   "cell_type": "code",
   "execution_count": 3,
   "metadata": {},
   "outputs": [
    {
     "name": "stdout",
     "output_type": "stream",
     "text": [
      "\n",
      "-1\n"
     ]
    }
   ],
   "source": [
    "str1=str(input(\"enter string 1\"))\n",
    "str2= str(input(\"enter string 2\"))\n",
    "str3=\"\"\n",
    "for i in range(len(str1)):\n",
    "    for j in range(len(str2)):\n",
    "        if str2[j]==str1[i]:\n",
    "         str3=str2[j]+str3\n",
    "print(str3)\n",
    "\n",
    "if len(str3)==0:\n",
    "   print(-1)        \n"
   ]
  },
  {
   "cell_type": "code",
   "execution_count": 4,
   "metadata": {},
   "outputs": [
    {
     "name": "stdout",
     "output_type": "stream",
     "text": [
      "An apple a day keeps the doctor away\n"
     ]
    }
   ],
   "source": [
    "list1 = ['A', 'app', 'a', 'd', 'ke', 'th', 'doc', 'awa']\n",
    "list2 = ['y', 'tor', 'e', 'eps', 'ay', None, 'le', 'n']\n",
    "\n",
    "merged_list = []\n",
    "\n",
    "len1 = len(list1)\n",
    "len2 = len(list2)\n",
    "\n",
    "for i in range(len1):\n",
    "\n",
    "    j = len2 - 1 - i\n",
    "   \n",
    "    element1 = list1[i]\n",
    "    element2 = list2[j]\n",
    "\n",
    "    \n",
    "    if element2 is None:\n",
    "        merged_list.append(element1)\n",
    "    else:\n",
    "        merged_list.append(element1 + element2)\n",
    "\n",
    "result_string = ' '.join(merged_list)\n",
    "print(result_string)"
   ]
  }
 ],
 "metadata": {
  "kernelspec": {
   "display_name": "Python 3",
   "language": "python",
   "name": "python3"
  },
  "language_info": {
   "codemirror_mode": {
    "name": "ipython",
    "version": 3
   },
   "file_extension": ".py",
   "mimetype": "text/x-python",
   "name": "python",
   "nbconvert_exporter": "python",
   "pygments_lexer": "ipython3",
   "version": "3.11.3"
  }
 },
 "nbformat": 4,
 "nbformat_minor": 2
}
