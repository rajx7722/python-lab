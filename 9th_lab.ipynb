{
 "cells": [
  {
   "cell_type": "markdown",
   "metadata": {},
   "source": [
    "# Q1. You are provided with the below code.  Add a try/except clause so the code runs without errors. If a blog post didn’t get any likes, a ‘Likes’ key should be added to that dictionary with a value of 0."
   ]
  },
  {
   "cell_type": "code",
   "execution_count": 1,
   "metadata": {},
   "outputs": [
    {
     "name": "stdout",
     "output_type": "stream",
     "text": [
      "86\n"
     ]
    }
   ],
   "source": [
    "blog_posts = [{'Photos': 3, 'Likes': 21, 'Comments': 2}, {'Likes': 13, 'Comments': 2, 'Shares': 1}, {'Photos': 5, 'Likes': 33, 'Comments': 8, 'Shares': 3}, {'Comments': 4, 'Shares': 2}, {'Photos': 8, 'Comments': 1, 'Shares': 1}, {'Photos': 3, 'Likes': 19, 'Comments': 3}]\n",
    "\n",
    "total_likes = 0\n",
    "\n",
    "for post in blog_posts:\n",
    "    try:\n",
    "        total_likes = total_likes + post['Likes']\n",
    "    except KeyError:\n",
    "        post['Likes']=0\n",
    "        total_likes = total_likes + post['Likes']\n",
    "\n",
    "print(total_likes)\n"
   ]
  },
  {
   "cell_type": "markdown",
   "metadata": {},
   "source": [
    "# Q5"
   ]
  },
  {
   "cell_type": "code",
   "execution_count": 3,
   "metadata": {},
   "outputs": [
    {
     "name": "stdout",
     "output_type": "stream",
     "text": [
      "['o', 'k', 'w', 't', 'n']\n"
     ]
    }
   ],
   "source": [
    "food = [\"chocolate\", \"chicken\", \"corn\", \"sandwich\", \"soup\", \"potatoes\", \"beef\", \"lox\", \"lemonade\"]\n",
    "fifth = []\n",
    "\n",
    "for x in food:\n",
    "    try:\n",
    "        fifth.append(x[4])\n",
    "    except IndexError:\n",
    "        pass\n",
    "\n",
    "print(fifth)\n",
    "\n"
   ]
  },
  {
   "cell_type": "markdown",
   "metadata": {},
   "source": [
    "# Q3"
   ]
  },
  {
   "cell_type": "code",
   "execution_count": 7,
   "metadata": {},
   "outputs": [
    {
     "name": "stdout",
     "output_type": "stream",
     "text": [
      "99\n",
      "None\n"
     ]
    }
   ],
   "source": [
    "def get_value(data_list, index):\n",
    "    try:\n",
    "        return data_list[index]\n",
    "    except IndexError:\n",
    "        return None\n",
    "\n",
    "my_list = ['11', '22', '99']\n",
    "\n",
    "hello=int(input())\n",
    "bye=int(input())\n",
    "\n",
    "print(get_value(my_list, hello))  \n",
    "print(get_value(my_list, bye))  \n"
   ]
  },
  {
   "cell_type": "code",
   "execution_count": null,
   "metadata": {},
   "outputs": [],
   "source": []
  }
 ],
 "metadata": {
  "kernelspec": {
   "display_name": "Python 3",
   "language": "python",
   "name": "python3"
  },
  "language_info": {
   "codemirror_mode": {
    "name": "ipython",
    "version": 3
   },
   "file_extension": ".py",
   "mimetype": "text/x-python",
   "name": "python",
   "nbconvert_exporter": "python",
   "pygments_lexer": "ipython3",
   "version": "3.11.3"
  }
 },
 "nbformat": 4,
 "nbformat_minor": 2
}
