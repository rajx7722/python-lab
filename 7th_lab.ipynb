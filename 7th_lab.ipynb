{
 "cells": [
  {
   "cell_type": "markdown",
   "id": "da5266db-b7cc-4e69-bfa8-0379cfa271b5",
   "metadata": {},
   "source": [
    "# Q1:COURSE ALLOCATION"
   ]
  },
  {
   "cell_type": "code",
   "execution_count": 1,
   "id": "8ae9d4d4-4d49-48bf-b92d-1b7901650bc8",
   "metadata": {},
   "outputs": [
    {
     "name": "stdout",
     "output_type": "stream",
     "text": [
      "John eligible: True\n",
      "Allocate Python course: True\n",
      "Allocate JavaScript course: False\n",
      "\n",
      "Alice eligible: True\n",
      "Allocate JavaScript course: True\n",
      "Allocate Python course: False\n",
      "\n",
      "Bob eligible: False\n",
      "Allocate Ruby course: False\n",
      "Allocate Python course: False\n"
     ]
    }
   ],
   "source": [
    "class Instructor:\n",
    "    def __init__(self, name, experience, avg_feedback):\n",
    "        self.__name = name\n",
    "        self.__experience = experience\n",
    "        self.__avg_feedback = avg_feedback\n",
    "        self.__technology_skills = []\n",
    "\n",
    "    def set_technology_skills(self, skills):\n",
    "        if isinstance(skills, list):\n",
    "            self.__technology_skills = skills\n",
    "        else:\n",
    "            raise ValueError(\"Skills must be provided as a list.\")\n",
    "\n",
    "    def check_eligibility(self):\n",
    "        if self.__experience > 3 and self.__avg_feedback >= 4.5:\n",
    "            return True\n",
    "        elif self.__experience <= 3 and self.__avg_feedback >= 4:\n",
    "            return True\n",
    "        else:\n",
    "            return False\n",
    "\n",
    "    def allocate_course(self, technology):\n",
    "        if self.check_eligibility() and technology in self.__technology_skills:\n",
    "            return True\n",
    "        else:\n",
    "            return False\n",
    "\n",
    "    def get_name(self):\n",
    "        return self.__name\n",
    "\n",
    "    def get_experience(self):\n",
    "        return self.__experience\n",
    "\n",
    "    def get_avg_feedback(self):\n",
    "        return self.__avg_feedback\n",
    "\n",
    "    def get_technology_skills(self):\n",
    "        return self.__technology_skills\n",
    "\n",
    "\n",
    "instructor1 = Instructor(\"John\", 5, 4.7)\n",
    "instructor1.set_technology_skills([\"Python\", \"Java\", \"C++\"])\n",
    "\n",
    "instructor2 = Instructor(\"Alice\", 3, 4.2)\n",
    "instructor2.set_technology_skills([\"JavaScript\", \"HTML\", \"CSS\"])\n",
    "\n",
    "instructor3 = Instructor(\"Bob\", 2, 3.9)\n",
    "instructor3.set_technology_skills([\"Python\", \"Ruby\"])\n",
    "\n",
    "print(f\"{instructor1.get_name()} eligible: {instructor1.check_eligibility()}\")\n",
    "print(f\"Allocate Python course: {instructor1.allocate_course('Python')}\")\n",
    "print(f\"Allocate JavaScript course: {instructor1.allocate_course('JavaScript')}\\n\")\n",
    "\n",
    "print(f\"{instructor2.get_name()} eligible: {instructor2.check_eligibility()}\")\n",
    "print(f\"Allocate JavaScript course: {instructor2.allocate_course('JavaScript')}\")\n",
    "print(f\"Allocate Python course: {instructor2.allocate_course('Python')}\\n\")\n",
    "\n",
    "print(f\"{instructor3.get_name()} eligible: {instructor3.check_eligibility()}\")\n",
    "print(f\"Allocate Ruby course: {instructor3.allocate_course('Ruby')}\")\n",
    "print(f\"Allocate Python course: {instructor3.allocate_course('Python')}\")\n"
   ]
  },
  {
   "cell_type": "markdown",
   "id": "50a4a0e6-04fa-4e18-b732-ca496af9a757",
   "metadata": {},
   "source": [
    "# Hospital Bill"
   ]
  },
  {
   "cell_type": "code",
   "execution_count": 2,
   "id": "67155b78-5b1b-4723-bda6-74ceab793f0b",
   "metadata": {},
   "outputs": [
    {
     "name": "stdout",
     "output_type": "stream",
     "text": [
      "Bill ID: 101\n",
      "Patient Name: John\n",
      "Bill Amount: 1100\n",
      "\n",
      "Bill ID: 102\n",
      "Patient Name: Alice\n",
      "Bill Amount: 950\n"
     ]
    }
   ],
   "source": [
    "class Bill:\n",
    "    def __init__(self, bill_id, patient_name):\n",
    "        self.__bill_id = bill_id\n",
    "        self.__patient_name = patient_name\n",
    "        self.__bill_amount = 0\n",
    "\n",
    "    def calculate_bill_amount(self, consultation_fees, quantity_list, price_list):\n",
    "        medicine_cost = 0\n",
    "        for i in range(len(quantity_list)):\n",
    "            medicine_cost += quantity_list[i] * price_list[i]\n",
    "        self.__bill_amount = consultation_fees + medicine_cost\n",
    "\n",
    "    def get_bill_id(self):\n",
    "        return self.__bill_id\n",
    "\n",
    "    def get_patient_name(self):\n",
    "        return self.__patient_name\n",
    "\n",
    "    def get_bill_amount(self):\n",
    "        return self.__bill_amount\n",
    "\n",
    "bill1 = Bill(101, \"John\")\n",
    "consultation_fees = 500\n",
    "quantity_list = [2, 1, 4]\n",
    "price_list = [100, 200, 50]\n",
    "bill1.calculate_bill_amount(consultation_fees, quantity_list, price_list)\n",
    "\n",
    "print(f\"Bill ID: {bill1.get_bill_id()}\")\n",
    "print(f\"Patient Name: {bill1.get_patient_name()}\")\n",
    "print(f\"Bill Amount: {bill1.get_bill_amount()}\")\n",
    "\n",
    "bill2 = Bill(102, \"Alice\")\n",
    "consultation_fees = 300\n",
    "quantity_list = [3, 2]\n",
    "price_list = [150, 100]\n",
    "bill2.calculate_bill_amount(consultation_fees, quantity_list, price_list)\n",
    "\n",
    "print(f\"\\nBill ID: {bill2.get_bill_id()}\")\n",
    "print(f\"Patient Name: {bill2.get_patient_name()}\")\n",
    "print(f\"Bill Amount: {bill2.get_bill_amount()}\")\n"
   ]
  },
  {
   "cell_type": "markdown",
   "id": "a4616863-a1db-4258-8b82-eab10b672a3b",
   "metadata": {},
   "source": [
    "# Apparel shop"
   ]
  },
  {
   "cell_type": "code",
   "execution_count": 3,
   "id": "ae5b460e-3054-4ed4-aceb-77ab41138526",
   "metadata": {},
   "outputs": [
    {
     "name": "stdout",
     "output_type": "stream",
     "text": [
      "Item ID: C101\n",
      "Item Type: Cotton\n",
      "Final Price: 1984.5\n",
      "\n",
      "Item ID: S102\n",
      "Item Type: Silk\n",
      "Final Price: 17325.0\n",
      "Points Earned: 10\n"
     ]
    }
   ],
   "source": [
    "class Apparel:\n",
    "    counter = 100\n",
    "    def __init__(self, price, item_type):\n",
    "        Apparel.counter += 1\n",
    "        self.__item_id = f\"{item_type[0]}{Apparel.counter}\"\n",
    "        self.__price = price\n",
    "        self.__item_type = item_type\n",
    "\n",
    "    def calculate_price(self):\n",
    "        self.__price += self.__price * 0.05\n",
    "\n",
    "    def get_item_id(self):\n",
    "        return self.__item_id\n",
    "\n",
    "    def get_price(self):\n",
    "        return self.__price\n",
    "\n",
    "    def get_item_type(self):\n",
    "        return self.__item_type\n",
    "\n",
    "    def set_price(self, price):\n",
    "        self.__price = price\n",
    "\n",
    "class Cotton(Apparel):\n",
    "    def __init__(self, price, discount):\n",
    "        super().__init__(price, \"Cotton\")\n",
    "        self.__discount = discount\n",
    "\n",
    "    def calculate_price(self):\n",
    "        super().calculate_price()\n",
    "        price_after_discount = self.get_price() - (self.get_price() * self.__discount / 100)\n",
    "        final_price = price_after_discount + price_after_discount * 0.05\n",
    "        self.set_price(final_price)\n",
    "\n",
    "    def get_discount(self):\n",
    "        return self.__discount\n",
    "\n",
    "class Silk(Apparel):\n",
    "    def __init__(self, price):\n",
    "        super().__init__(price, \"Silk\")\n",
    "        self.__points = 0\n",
    "\n",
    "    def calculate_price(self):\n",
    "        super().calculate_price()\n",
    "        if self.get_price() > 10000:\n",
    "            self.__points = 10\n",
    "        else:\n",
    "            self.__points = 3\n",
    "        final_price = self.get_price() + self.get_price() * 0.10\n",
    "        self.set_price(final_price)\n",
    "\n",
    "    def get_points(self):\n",
    "        return self.__points\n",
    "\n",
    "cotton_apparel = Cotton(2000, 10)\n",
    "cotton_apparel.calculate_price()\n",
    "\n",
    "silk_apparel = Silk(15000)\n",
    "silk_apparel.calculate_price()\n",
    "\n",
    "print(f\"Item ID: {cotton_apparel.get_item_id()}\")\n",
    "print(f\"Item Type: {cotton_apparel.get_item_type()}\")\n",
    "print(f\"Final Price: {cotton_apparel.get_price()}\\n\")\n",
    "\n",
    "print(f\"Item ID: {silk_apparel.get_item_id()}\")\n",
    "print(f\"Item Type: {silk_apparel.get_item_type()}\")\n",
    "print(f\"Final Price: {silk_apparel.get_price()}\")\n",
    "print(f\"Points Earned: {silk_apparel.get_points()}\")\n"
   ]
  },
  {
   "cell_type": "markdown",
   "id": "a9b349b4-4f2e-44cd-afd7-16b39e1f9b77",
   "metadata": {},
   "source": [
    "# Multiple Inheritance"
   ]
  },
  {
   "cell_type": "code",
   "execution_count": 4,
   "id": "4ec4673d-609f-4c1b-affc-bc708fd4b4e6",
   "metadata": {},
   "outputs": [
    {
     "name": "stdout",
     "output_type": "stream",
     "text": [
      "Rectangle (Color: Red) Area: 50\n",
      "Triangle (Color: Blue) Area: 24.0\n"
     ]
    }
   ],
   "source": [
    "class Shape:\n",
    "    def __init__(self, color):\n",
    "        self.__color = color\n",
    "\n",
    "    def get_color(self):\n",
    "        return self.__color\n",
    "\n",
    "class Rectangle(Shape):\n",
    "    def __init__(self, color, length, breadth):\n",
    "        super().__init__(color)\n",
    "        self.__length = length\n",
    "        self.__breadth = breadth\n",
    "\n",
    "    def calc_area(self):\n",
    "        return self.__length * self.__breadth\n",
    "\n",
    "class Triangle(Shape):\n",
    "    def __init__(self, color, base, height):\n",
    "        super().__init__(color)\n",
    "        self.__base = base\n",
    "        self.__height = height\n",
    "\n",
    "    def calc_area(self):\n",
    "        return 0.5 * self.__base * self.__height\n",
    "\n",
    "rectangle = Rectangle(\"Red\", 10, 5)\n",
    "triangle = Triangle(\"Blue\", 8, 6)\n",
    "\n",
    "print(f\"Rectangle (Color: {rectangle.get_color()}) Area: {rectangle.calc_area()}\")\n",
    "print(f\"Triangle (Color: {triangle.get_color()}) Area: {triangle.calc_area()}\")\n"
   ]
  },
  {
   "cell_type": "code",
   "execution_count": null,
   "id": "5a30d33b-15ed-406d-b3c9-fe39b680fe53",
   "metadata": {},
   "outputs": [],
   "source": []
  }
 ],
 "metadata": {
  "kernelspec": {
   "display_name": "Python 3",
   "language": "python",
   "name": "python3"
  },
  "language_info": {
   "codemirror_mode": {
    "name": "ipython",
    "version": 3
   },
   "file_extension": ".py",
   "mimetype": "text/x-python",
   "name": "python",
   "nbconvert_exporter": "python",
   "pygments_lexer": "ipython3",
   "version": "3.11.3"
  }
 },
 "nbformat": 4,
 "nbformat_minor": 5
}
