{
 "cells": [
  {
   "cell_type": "markdown",
   "metadata": {},
   "source": [
    "# question 1 \n",
    "Write a Python program to categorize all the elements of a given tuple according to their data type. Store the results of each category into a new sub-tuple. Display the sorted order of each sub-tuple."
   ]
  },
  {
   "cell_type": "code",
   "execution_count": 1,
   "metadata": {},
   "outputs": [
    {
     "name": "stdout",
     "output_type": "stream",
     "text": [
      "input list is : ('helo', 'there', '55', '55.0', 'true')\n",
      "integer tuple: [55]\n",
      "boolean tuple: ['true']\n",
      "string tuple: ['helo', 'there']\n",
      "float tuple: [55.0]\n"
     ]
    }
   ],
   "source": [
    "x=input(\"enter the values of tuple separated by space\")\n",
    "my_li=[i.strip() for i in x.split()]\n",
    "my_tup=tuple(my_li)\n",
    "print(\"input tuple is :\",my_tup)\n",
    "\n",
    "#defining empty tuples\n",
    "string_store= ()\n",
    "in_store=()\n",
    "flo_store = ()\n",
    "boolean_store=()\n",
    "\n",
    "for item in my_tup:\n",
    "    if item.lower() == \"true\" or item.lower()=='false':\n",
    "        boolean_store+=(item,)\n",
    "    elif '.' in item:\n",
    "        try:\n",
    "            flo_store+=(float(item),)\n",
    "        except ValueError:\n",
    "            string_store+=(item,)\n",
    "    else:\n",
    "        try:\n",
    "            in_store+=(int(item),)\n",
    "        except ValueError:\n",
    "            string_store+= (item,)\n",
    "\n",
    "\n",
    "print(\"integer tuple:\",sorted(in_store))\n",
    "print(\"boolean tuple:\",sorted(boolean_store))\n",
    "print(\"string tuple:\",sorted(string_store))\n",
    "print(\"float tuple:\",sorted(flo_store))\n",
    "    "
   ]
  },
  {
   "cell_type": "markdown",
   "metadata": {},
   "source": [
    "# question 2\n",
    "Write a python program to read a list of strings and count the number of characters in each string. Store the output in the dictionary"
   ]
  },
  {
   "cell_type": "code",
   "execution_count": 2,
   "metadata": {},
   "outputs": [
    {
     "name": "stdout",
     "output_type": "stream",
     "text": [
      "now enter the string\n",
      "{'heloo there ': 10, 'buddy': 5}\n"
     ]
    }
   ],
   "source": [
    "n=int(input(\"enter the no of strings you have to enter\"))\n",
    "li=[]\n",
    "no_li=[]\n",
    "print(\"now enter the string\")\n",
    "for i in range(n):\n",
    "    y=input()\n",
    "    li.append(y)\n",
    "    #now that i have the lists ill count the no of chars\n",
    "    no_chars= len(y.replace(\" \",\"\"))\n",
    "    no_li.append(no_chars)\n",
    "my_dict= dict(zip(li,no_li))\n",
    "print(my_dict)\n"
   ]
  },
  {
   "cell_type": "markdown",
   "metadata": {},
   "source": [
    "# question 3\n",
    "3.\tCare hospital wants to know the medical speciality visited by the maximum number of patients. Assume that the patient id of the patient along with the medical speciality visited by the patient is stored in a list. The details of the medical specialities are stored in a dictionary as follows:\n",
    "\n",
    "{\n",
    "\"P\":\"Pediatrics\",\n",
    "\"O\":\"Orthopedics\",\n",
    "\"E\":\"ENT\n",
    "} \n",
    "\n",
    "Write a function to find the medical speciality visited by the maximum number of patients and return the name of the speciality.\n",
    "\n",
    "Note: \n",
    "1.\tAssume that there is always only one medical speciality which is visited by maximum number of patients.\n",
    "2.\tPerform case sensitive string comparison wherever necessary.\n",
    "\n"
   ]
  },
  {
   "cell_type": "code",
   "execution_count": 3,
   "metadata": {},
   "outputs": [
    {
     "name": "stdout",
     "output_type": "stream",
     "text": [
      "P\n"
     ]
    }
   ],
   "source": [
    "\n",
    "specs_count={\"P\":0,\"O\":0,\"E\":0}\n",
    "while True:\n",
    "    id=input(\"enter the id number , enter 'done' if you're done\")\n",
    "    if id.lower() == 'done':\n",
    "        break\n",
    "    spec_visited=input(\"enter the visited speciality P, O or E\").upper()\n",
    "    \n",
    "    if spec_visited in specs_count:\n",
    "        specs_count[spec_visited]+=1\n",
    "    else:\n",
    "        print(\"just enter E O or P please\")\n",
    "\n",
    "max_speciality = max(specs_count, key=specs_count.get)\n",
    "print(max_speciality)"
   ]
  },
  {
   "cell_type": "markdown",
   "metadata": {},
   "source": [
    "# question 4\n",
    "Write a python function, find_correct() which accepts a dictionary and returns a list as per the rules mentioned below. The input dictionary will contain correct spelling of a word as key and the spelling provided by a contestant as the value. The function should identify the degree of correctness as mentioned below:\n",
    "CORRECT, if it is an exact match\n",
    "ALMOST CORRECT, if no more than 2 letters are wrong\n",
    "WRONG, if more than 2 letters are wrong or if length (correct spelling versus spelling given by contestant) mismatches.\n",
    "and return a list containing the number of CORRECT answers, number of ALMOST CORRECT answers and number of WRONG answers. \n",
    "Assume that the words contain only uppercase letters and the maximum word length is 10.\n"
   ]
  },
  {
   "cell_type": "code",
   "execution_count": 8,
   "metadata": {},
   "outputs": [
    {
     "name": "stdout",
     "output_type": "stream",
     "text": [
      "here are your spellings you entered: ['hello', 'aeroplane', 'there', 'some']\n",
      "{'hello': 'heelo', 'aeroplane': 'aeroplsj', 'there': 'there', 'some': 'somr'}\n",
      "no of correct spellings: 1\n",
      "no of incorrect spellings: 1\n",
      "no of almost correct spellings: 2\n"
     ]
    }
   ],
   "source": [
    "a=input(\"enter the correct spellings separated by spaces:\")\n",
    "lis1=[i.strip() for i in a.split()]\n",
    "print(f\"here are your spellings you entered: {lis1}\")\n",
    "b= input(\"enter the spellings to be checked now , keep in mind to enter them correspondingly to the spellings entered before\")\n",
    "lis2=[i.strip() for i in b.split()]\n",
    "dic_1=dict(zip(lis1,lis2))\n",
    "print(dic_1)\n",
    "\n",
    "def find_correct(dic_1):\n",
    "    correct = 0\n",
    "    almost_correct = 0\n",
    "    wrong = 0\n",
    "    for spell,spell_check in dic_1.items():\n",
    "        if spell == spell_check:\n",
    "            correct+=1\n",
    "        elif len(spell)!=len(spell_check):\n",
    "            wrong+=1\n",
    "        else:\n",
    "            difference=sum(1 for a,b in zip(spell,spell_check) if a!=b)\n",
    "            if difference <= 2:\n",
    "                almost_correct += 1\n",
    "            else:\n",
    "                wrong += 1\n",
    "    return correct,almost_correct,wrong\n",
    "\n",
    "correct,almost_correct,wrong=find_correct(dic_1)\n",
    "print(f\"no of correct spellings: {correct}\")\n",
    "print(f\"no of incorrect spellings: {wrong}\")\n",
    "print(f\"no of almost correct spellings: {almost_correct}\")\n",
    "\n",
    "\n",
    "        "
   ]
  },
  {
   "cell_type": "markdown",
   "metadata": {},
   "source": [
    "# question 5\n",
    "(a) Create a character translator (that works similar to the Unix tr command). This function, which we will call tr(), takes three strings as arguments: source,\n",
    "destination, and base strings, and has the following declaration:\n",
    "def tr(srcstr, dststr, string)\n",
    "srcstr contains the set of characters you want \"translated,\" dststr contains the set of characters to translate to, and string is the string to perform the translation on. For example, if srcstr == 'abc', dststr == 'mno', and string =='abcdef', then tr() would output 'mnodef'. Note that len(srcstr) ==len(dststr). For this exercise, you can use the chr() and ord() built-in functions, but they are not necessary to arrive at a solution.\n",
    "\n",
    "(b) Update your solution so that it can process character deletions. Any extra characters in srcstr which are beyond those which could be mapped to characters in dststr should be filtered. In other words, these characters are mapped to no characters in dststr, and are thus filtered from the modified string which is returned. For example, if srcstr == 'abcdef', dststr == 'mno', and string== 'abcdefghi', then tr() would output 'mnoghi'. Note now thatlen(srcstr) >= len(dststr).\n"
   ]
  },
  {
   "cell_type": "code",
   "execution_count": 4,
   "metadata": {},
   "outputs": [
    {
     "name": "stdout",
     "output_type": "stream",
     "text": [
      "mnodef\n"
     ]
    }
   ],
   "source": [
    "srcstr=input(\"enter the srcSTR\")\n",
    "dststr=input(\"enter the dststr\")\n",
    "string = input (\"enter the string on which the conversion is to be performed\")\n",
    "def tr(srcstr, dststr, string):\n",
    "    result=\"\"\n",
    "    for char in string:\n",
    "        if char in srcstr:\n",
    "            index=srcstr.index(char)\n",
    "            try:\n",
    "                result+= dststr[index]\n",
    "            except:\n",
    "                pass\n",
    "        else:\n",
    "            result+= char\n",
    "    return result\n",
    "result=tr(srcstr,dststr,string)\n",
    "\n",
    "print(result)\n",
    "\n",
    "    "
   ]
  },
  {
   "cell_type": "code",
   "execution_count": null,
   "metadata": {},
   "outputs": [],
   "source": []
  }
 ],
 "metadata": {
  "kernelspec": {
   "display_name": "Python 3",
   "language": "python",
   "name": "python3"
  },
  "language_info": {
   "codemirror_mode": {
    "name": "ipython",
    "version": 3
   },
   "file_extension": ".py",
   "mimetype": "text/x-python",
   "name": "python",
   "nbconvert_exporter": "python",
   "pygments_lexer": "ipython3",
   "version": "3.11.3"
  }
 },
 "nbformat": 4,
 "nbformat_minor": 2
}
