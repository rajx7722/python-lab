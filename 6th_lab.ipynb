{
 "cells": [
  {
   "cell_type": "markdown",
   "metadata": {},
   "source": [
    "# question 1\n",
    "Write a python program to compute the area of circle, square, and rectangle by using module."
   ]
  },
  {
   "cell_type": "code",
   "execution_count": null,
   "metadata": {},
   "outputs": [],
   "source": [
    "#done in separate files"
   ]
  },
  {
   "cell_type": "markdown",
   "metadata": {},
   "source": [
    "\n",
    "# question 2:\n",
    "Write a python program to calculate the frequency of vowels and consonants in file."
   ]
  },
  {
   "cell_type": "code",
   "execution_count": 31,
   "metadata": {},
   "outputs": [
    {
     "name": "stdout",
     "output_type": "stream",
     "text": [
      "Number of vowels: 364\n",
      "Number of consonants: 645\n"
     ]
    }
   ],
   "source": [
    "\n",
    "vowel_count = 0\n",
    "consonant_count = 0\n",
    "filename=input(\"enter the filename\")\n",
    "file = open(filename, 'r')\n",
    "content = file.read().lower()\n",
    "\n",
    "for char in content:\n",
    "        if char.isalpha():\n",
    "            if char in 'aeiou':\n",
    "                vowel_count += 1\n",
    "            else:\n",
    "                consonant_count += 1\n",
    "\n",
    "file.close()\n",
    "print(f\"Number of vowels: {vowel_count}\")\n",
    "print(f\"Number of consonants: {consonant_count}\")\n"
   ]
  },
  {
   "cell_type": "markdown",
   "metadata": {},
   "source": [
    "# question 3\n",
    "Write a python program to swap the first and second half of the input file content."
   ]
  },
  {
   "cell_type": "code",
   "execution_count": 29,
   "metadata": {},
   "outputs": [
    {
     "name": "stdout",
     "output_type": "stream",
     "text": [
      "Swapped content saved in swapped_assignment6.txt\n"
     ]
    }
   ],
   "source": [
    "def swap_file_content(filename):\n",
    "    file = open(filename, 'r')\n",
    "    content = file.read()\n",
    "    file.close()\n",
    "\n",
    "    mid = len(content) // 2\n",
    "    if len(content) % 2 != 0:\n",
    "        mid += 1\n",
    "\n",
    "    first_half = content[:mid]\n",
    "    second_half = content[mid:]\n",
    "\n",
    "    swapped_content = second_half + first_half\n",
    "\n",
    "    output_filename = 'swapped_' + filename\n",
    "    output_file = open(output_filename, 'w')\n",
    "    output_file.write(swapped_content)\n",
    "    output_file.close()\n",
    "\n",
    "    print(f\"Swapped content saved in {output_filename}\")\n",
    "\n",
    "swap_file_content('assignment6.txt')\n"
   ]
  },
  {
   "cell_type": "markdown",
   "metadata": {},
   "source": [
    "# question 4\n",
    "Write a program to copy lines which start with a lowercase letter only from the input file Demo.txt and ignore the lines which start from with an uppercase letter. The output file Demo2.txt should contain only those lines from the file Demo.txt which start with a lowercase letter."
   ]
  },
  {
   "cell_type": "code",
   "execution_count": 34,
   "metadata": {},
   "outputs": [],
   "source": [
    "input_filename = 'assignment6.txt'\n",
    "output_filename = 'lowercase_assignment.txt'\n",
    "\n",
    "file = open(input_filename, 'r')\n",
    "output_file = open(output_filename, 'w')\n",
    "\n",
    "content = file.read()\n",
    "lines = content.split('.')\n",
    "\n",
    "for line in lines:\n",
    "    line = line.strip()\n",
    "    if line and line[0].islower():\n",
    "        output_file.write(line + '.\\n')\n",
    "\n",
    "file.close()\n",
    "output_file.close()"
   ]
  },
  {
   "cell_type": "markdown",
   "metadata": {},
   "source": [
    "# question 5\n",
    "madlibs game\n"
   ]
  },
  {
   "cell_type": "code",
   "execution_count": 35,
   "metadata": {},
   "outputs": [
    {
     "name": "stdout",
     "output_type": "stream",
     "text": [
      "\n",
      "Here is your Mad Libs result:\n",
      "\n",
      "The beautifyul panda walked to the abhijit and then singing. A nearby adarsh was\n",
      "unaffected by these events\n",
      "\n"
     ]
    }
   ],
   "source": [
    "input_filename = 'madlibs.txt'\n",
    "file = open(input_filename, 'r')\n",
    "content = file.read()\n",
    "file.close()\n",
    "\n",
    "values = ['ADJECTIVE', 'NOUN', 'VERB']\n",
    "\n",
    "for i in values:\n",
    "    while i in content:\n",
    "        user_input = input(f'Enter a {i.lower()}: ')\n",
    "        content = content.replace(i, user_input, 1)\n",
    "\n",
    "print(\"\\nHere is your Mad Libs result:\\n\")\n",
    "print(content)\n",
    "\n",
    "output_filename = 'madlibs_output.txt'\n",
    "output_file = open(output_filename, 'w')\n",
    "output_file.write(content)\n",
    "output_file.close()"
   ]
  },
  {
   "cell_type": "code",
   "execution_count": null,
   "metadata": {},
   "outputs": [],
   "source": []
  }
 ],
 "metadata": {
  "kernelspec": {
   "display_name": "Python 3",
   "language": "python",
   "name": "python3"
  },
  "language_info": {
   "codemirror_mode": {
    "name": "ipython",
    "version": 3
   },
   "file_extension": ".py",
   "mimetype": "text/x-python",
   "name": "python",
   "nbconvert_exporter": "python",
   "pygments_lexer": "ipython3",
   "version": "3.11.3"
  }
 },
 "nbformat": 4,
 "nbformat_minor": 2
}
