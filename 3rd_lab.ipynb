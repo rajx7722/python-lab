{
 "cells": [
  {
   "cell_type": "markdown",
   "metadata": {},
   "source": [
    "**3rd lab , 6 questions**"
   ]
  },
  {
   "cell_type": "markdown",
   "metadata": {},
   "source": [
    "# question 1"
   ]
  },
  {
   "cell_type": "code",
   "execution_count": 12,
   "metadata": {},
   "outputs": [
    {
     "name": "stdout",
     "output_type": "stream",
     "text": [
      "Encoded Output: 2N1D1S1N1D1S\n"
     ]
    }
   ],
   "source": [
    "def run_length_encoding(input_string):\n",
    "    if not input_string:\n",
    "        return \"\"\n",
    "    encoded_string = \"\"\n",
    "    count = 1\n",
    "    previous_char = input_string[0]\n",
    "\n",
    "    for char in input_string[1:]:\n",
    "        if char == previous_char:\n",
    "            count += 1\n",
    "        else:\n",
    "            encoded_string += str(count) + previous_char\n",
    "            count = 1\n",
    "        previous_char = char\n",
    "\n",
    "    encoded_string += str(count) + previous_char\n",
    "    return encoded_string\n",
    "\n",
    "user_input = input(\"Enter a string containing uppercase characters (A-Z): \")\n",
    "encoded_output = run_length_encoding(user_input)\n",
    "print(f\"Encoded Output: {encoded_output}\")\n"
   ]
  },
  {
   "cell_type": "markdown",
   "metadata": {},
   "source": [
    "# QUESTION 2\n",
    "1.\tWrite a python function, find_pairs_of_numbers() which accepts a list of positive integers with no repetitions and returns count of pairs of numbers in the list that adds up to n. The function should return 0, if no such pairs are found in the list.\n",
    "\n"
   ]
  },
  {
   "cell_type": "code",
   "execution_count": 17,
   "metadata": {},
   "outputs": [
    {
     "name": "stdout",
     "output_type": "stream",
     "text": [
      "the number list you provided is:\n",
      "[12, 45, 2, 12, 3, 6, 9, 4, 5]\n",
      "Number of pairs that add up to 16: 1\n"
     ]
    }
   ],
   "source": [
    "def find_pairs_of_numbers(numbers_list, target_sum):\n",
    "    count = 0\n",
    "    visited = set()\n",
    "    \n",
    "    for number in numbers_list:\n",
    "        complement = target_sum - number\n",
    "        if complement in visited:\n",
    "            count += 1\n",
    "        visited.add(number)\n",
    "\n",
    "    return count\n",
    "\n",
    "input_string = input(\"Enter positive integers separated by spaces: \")\n",
    "string_list = input_string.split() \n",
    "numbers_list = []\n",
    "\n",
    "for num in string_list:  \n",
    "    number = int(num)  \n",
    "    numbers_list.append(number)  \n",
    "print(\"the number list you provided is:\")\n",
    "print(numbers_list)\n",
    "\n",
    "target_sum = int(input(\"Enter the target sum: \"))\n",
    "\n",
    "output = find_pairs_of_numbers(numbers_list, target_sum)\n",
    "print(f\"Number of pairs that add up to {target_sum}: {output}\")\n"
   ]
  },
  {
   "cell_type": "markdown",
   "metadata": {},
   "source": [
    "# question 4"
   ]
  },
  {
   "cell_type": "code",
   "execution_count": 23,
   "metadata": {},
   "outputs": [
    {
     "name": "stdout",
     "output_type": "stream",
     "text": [
      "The largest number possible by concatenating the list is: 986522\n"
     ]
    }
   ],
   "source": [
    "def bubble_sort(arr):\n",
    "    n = len(arr)\n",
    "    for i in range(n):\n",
    "        for j in range(0, n-i-1):\n",
    "            if arr[j] < arr[j+1]:\n",
    "                arr[j], arr[j+1] = arr[j+1], arr[j]\n",
    "\n",
    "def create_largest_number(numbers):\n",
    "    numbers_str = [str(num) for num in numbers]\n",
    "    bubble_sort(numbers_str)\n",
    "    largest_number = ''.join(numbers_str)\n",
    "\n",
    "    return largest_number\n",
    "numbers = []\n",
    "n = int(input(\"Enter the number of elements in the list: \"))\n",
    "\n",
    "for i in range(n):\n",
    "    element = input(f\"Enter element {i + 1}: \")\n",
    "    while not element.isdigit():\n",
    "        print(\"Invalid input. Please enter a positive integer.\")\n",
    "        element = input(f\"Enter element {i + 1}: \")\n",
    "    numbers.append(int(element))\n",
    "print(\"The largest number possible by concatenating the list is:\", create_largest_number(numbers))"
   ]
  },
  {
   "cell_type": "markdown",
   "metadata": {},
   "source": [
    "# question 3\n"
   ]
  },
  {
   "cell_type": "code",
   "execution_count": 27,
   "metadata": {},
   "outputs": [
    {
     "name": "stdout",
     "output_type": "stream",
     "text": [
      "Marks as tuple: (5, 4, 2, 6, 8, 9, 10, 25, 6, 9)\n",
      "Percentage of students scoring more than average: 40.0\n",
      "Frequency of each mark from 0 to 25: [0, 0, 1, 0, 1, 1, 2, 0, 1, 2, 1, 0, 0, 0, 0, 0, 0, 0, 0, 0, 0, 0, 0, 0, 0, 1]\n",
      "Sorted marks: [2, 4, 5, 6, 6, 8, 9, 9, 10, 25]\n"
     ]
    }
   ],
   "source": [
    "def find_more_than_average(marks):\n",
    "    average_mark = sum(marks) / len(marks)\n",
    "    \n",
    "    count_more_than_average = sum(1 for mark in marks if mark > average_mark)\n",
    "    percentage = (count_more_than_average / len(marks)) * 100\n",
    "    \n",
    "    return percentage\n",
    "\n",
    "def generate_frequency(marks):\n",
    "    frequency = [0] * 26\n",
    "    for mark in marks:\n",
    "        frequency[mark] += 1\n",
    "    return frequency\n",
    "\n",
    "def sort_marks(marks):\n",
    "    sorted_marks = sorted(marks)\n",
    "    return sorted_marks\n",
    "\n",
    "input_string = input(\"Enter the marks of 10 students separated by spaces (each mark should be between 0 and 25): \")\n",
    "string_list = input_string.split()\n",
    "marks_list = []\n",
    "\n",
    "for mark in string_list:\n",
    "    number = int(mark)\n",
    "    marks_list.append(number)\n",
    "\n",
    "marks = tuple(marks_list)\n",
    "print(\"Marks as tuple:\", marks)\n",
    "\n",
    "if len(marks) != 10:\n",
    "    print(\"Please enter exactly 10 marks.\")\n",
    "else:\n",
    "    print(\"Percentage of students scoring more than average:\", find_more_than_average(marks))\n",
    "    print(\"Frequency of each mark from 0 to 25:\", generate_frequency(marks))\n",
    "    print(\"Sorted marks:\", sort_marks(marks))\n"
   ]
  },
  {
   "cell_type": "markdown",
   "metadata": {},
   "source": [
    "# question 6\n",
    "anagram:"
   ]
  },
  {
   "cell_type": "code",
   "execution_count": 29,
   "metadata": {},
   "outputs": [
    {
     "name": "stdout",
     "output_type": "stream",
     "text": [
      "The strings are anagrams.\n"
     ]
    }
   ],
   "source": [
    "def check_anagram(str1, str2):\n",
    "    str1 = str1.lower()\n",
    "    str2 = str2.lower()\n",
    "    \n",
    "    if len(str1) != len(str2):\n",
    "        return False\n",
    "    \n",
    "    if sorted(str1) != sorted(str2):\n",
    "        return False\n",
    "    \n",
    "    length = len(str1)\n",
    "    for i in range(length):\n",
    "        if str1[i] == str2[i]:\n",
    "            return False\n",
    "        \n",
    "    return True\n",
    "\n",
    "string1 = input(\"Enter the first string: \")\n",
    "string2 = input(\"Enter the second string: \")\n",
    "\n",
    "if check_anagram(string1, string2):\n",
    "    print(\"The strings are anagrams.\")\n",
    "else:\n",
    "    print(\"The strings are not anagrams.\")\n"
   ]
  },
  {
   "cell_type": "markdown",
   "metadata": {},
   "source": [
    "question 5"
   ]
  }
 ],
 "metadata": {
  "kernelspec": {
   "display_name": "Python 3",
   "language": "python",
   "name": "python3"
  },
  "language_info": {
   "codemirror_mode": {
    "name": "ipython",
    "version": 3
   },
   "file_extension": ".py",
   "mimetype": "text/x-python",
   "name": "python",
   "nbconvert_exporter": "python",
   "pygments_lexer": "ipython3",
   "version": "3.11.3"
  }
 },
 "nbformat": 4,
 "nbformat_minor": 2
}
