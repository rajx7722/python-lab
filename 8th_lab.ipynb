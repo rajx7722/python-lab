{
 "cells": [
  {
   "cell_type": "markdown",
   "metadata": {},
   "source": [
    "# Q1:"
   ]
  },
  {
   "cell_type": "code",
   "execution_count": 1,
   "metadata": {},
   "outputs": [
    {
     "name": "stdout",
     "output_type": "stream",
     "text": [
      "4\n",
      "If I can stop one heart from breaking, I shall not live in vain; If I can ease one life the aching, Or cool one pain, Or help one fainting robin Unto his nest again, I shall not live in vain.\n",
      "If I can stop one heart from breaking,\n",
      "I shall not live in vain;\n",
      "If I can ease one life the aChing,\n",
      "Or Cool one pain,\n",
      "Or help one fainting robin\n",
      "Unto his nest again,\n",
      "I shall not live in vain.\n",
      "If I can stop one heart from breaking,\n",
      "I shall not live in vain;\n",
      "If I can ease one life the achi***\n",
      "Or cool one pain,\n",
      "Or help one fai***ng robin\n",
      "Unto hi***est again,\n",
      "I shall not live in vain.\n"
     ]
    }
   ],
   "source": [
    "import re\n",
    "\n",
    "poem = '''If I can stop one heart from breaking,\n",
    "I shall not live in vain;\n",
    "If I can ease one life the aching,\n",
    "Or cool one pain,\n",
    "Or help one fainting robin\n",
    "Unto his nest again,\n",
    "I shall not live in vain.'''\n",
    "\n",
    "count_v = len(re.findall(r'v', poem))\n",
    "print(count_v)\n",
    "\n",
    "poem_single_line = re.sub(r'\\n', ' ', poem)\n",
    "print(poem_single_line)\n",
    "\n",
    "poem_replace_ch_co = re.sub(r'ch', 'Ch', poem)\n",
    "poem_replace_ch_co = re.sub(r'co', 'Co', poem_replace_ch_co)\n",
    "print(poem_replace_ch_co)\n",
    "\n",
    "poem_replace_ai_hi = re.sub(r'(ai|hi)(.{3})', r'\\1***', poem)\n",
    "print(poem_replace_ai_hi)\n"
   ]
  },
  {
   "cell_type": "markdown",
   "metadata": {},
   "source": [
    "# Q2"
   ]
  },
  {
   "cell_type": "code",
   "execution_count": 3,
   "metadata": {},
   "outputs": [],
   "source": [
    "import re\n",
    "\n",
    "def validate_name(name):\n",
    "    if not name:\n",
    "        return False\n",
    "    if len(name) > 15:\n",
    "        return False\n",
    "    if not name.isalpha():\n",
    "        return False\n",
    "    return True\n",
    "\n",
    "def validate_phone_no(phoneno):\n",
    "    if len(phoneno) != 10:\n",
    "        return False\n",
    "    if not phoneno.isdigit():\n",
    "        return False\n",
    "    if phoneno == phoneno[0] * 10:\n",
    "        return False\n",
    "    return True\n",
    "\n",
    "def validate_email_id(email_id):\n",
    "    if '@' not in email_id or not email_id.endswith('.com'):\n",
    "        return False\n",
    "    pattern = r'^[a-zA-Z0-9._%+-]+@(gmail|yahoo|hotmail)\\.com$'\n",
    "    if not re.match(pattern, email_id):\n",
    "        return False\n",
    "    return True\n",
    "\n",
    "name = input(\"Enter your name: \")\n",
    "phone_no = input(\"Enter your phone number: \")\n",
    "email_id = input(\"Enter your email address: \")\n",
    "\n",
    "if validate_name(name):\n",
    "    print(\"Name is valid.\")\n",
    "else:\n",
    "    print(\"Name is invalid. It should only contain alphabets and be less than 15 characters.\")\n",
    "\n",
    "if validate_phone_no(phone_no):\n",
    "    print(\"Phone number is valid.\")\n",
    "else:\n",
    "    print(\"Phone number is invalid. It should contain 10 digits and not have all digits the same.\")\n",
    "\n",
    "if validate_email_id(email_id):\n",
    "    print(\"Email ID is valid.\")\n",
    "else:\n",
    "    print(\"Email ID is invalid. It should be in the format username@domain.com and only support gmail, yahoo, or hotmail domains.\")\n"
   ]
  }
 ],
 "metadata": {
  "kernelspec": {
   "display_name": "Python 3",
   "language": "python",
   "name": "python3"
  },
  "language_info": {
   "codemirror_mode": {
    "name": "ipython",
    "version": 3
   },
   "file_extension": ".py",
   "mimetype": "text/x-python",
   "name": "python",
   "nbconvert_exporter": "python",
   "pygments_lexer": "ipython3",
   "version": "3.11.3"
  }
 },
 "nbformat": 4,
 "nbformat_minor": 2
}
